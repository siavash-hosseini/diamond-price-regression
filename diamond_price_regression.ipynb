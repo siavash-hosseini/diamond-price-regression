{
  "nbformat": 4,
  "nbformat_minor": 0,
  "metadata": {
    "colab": {
      "provenance": []
    },
    "kernelspec": {
      "name": "python3",
      "display_name": "Python 3"
    },
    "language_info": {
      "name": "python"
    }
  },
  "cells": [
    {
      "cell_type": "code",
      "execution_count": null,
      "metadata": {
        "id": "PJE0NfBeHNYQ"
      },
      "outputs": [],
      "source": [
        "import pandas as pd\n",
        "import numpy as np\n",
        "import matplotlib.pyplot as plt\n",
        "\n",
        "import tensorflow as tf\n",
        "import tensorflow.keras\n",
        "from tensorflow.keras import layers\n",
        "\n",
        "from sklearn.model_selection import train_test_split\n",
        "from sklearn.preprocessing import StandardScaler\n",
        "\n",
        "from sklearn.preprocessing import OneHotEncoder\n",
        "\n"
      ]
    },
    {
      "cell_type": "code",
      "source": [
        "from google.colab import drive\n",
        "drive.mount('/content/drive')"
      ],
      "metadata": {
        "colab": {
          "base_uri": "https://localhost:8080/"
        },
        "id": "v-b-hvb8HZyO",
        "outputId": "4a4b082e-b056-43d6-d7b5-00f7238f34bf"
      },
      "execution_count": null,
      "outputs": [
        {
          "output_type": "stream",
          "name": "stdout",
          "text": [
            "Drive already mounted at /content/drive; to attempt to forcibly remount, call drive.mount(\"/content/drive\", force_remount=True).\n"
          ]
        }
      ]
    },
    {
      "cell_type": "code",
      "source": [
        "df = pd.read_csv('/content/drive/MyDrive/diamonds.csv')"
      ],
      "metadata": {
        "id": "bNCJ50xIHiuL"
      },
      "execution_count": null,
      "outputs": []
    },
    {
      "cell_type": "code",
      "source": [
        "df = df.drop(columns='Unnamed: 0')"
      ],
      "metadata": {
        "id": "jh_Pxx2EEP1W"
      },
      "execution_count": null,
      "outputs": []
    },
    {
      "cell_type": "code",
      "source": [
        "df.head(10)"
      ],
      "metadata": {
        "colab": {
          "base_uri": "https://localhost:8080/",
          "height": 363
        },
        "id": "reii6EgWH1kg",
        "outputId": "add20675-4cac-40d4-87c9-a4007e0a6267"
      },
      "execution_count": null,
      "outputs": [
        {
          "output_type": "execute_result",
          "data": {
            "text/html": [
              "\n",
              "  <div id=\"df-f9fd4df0-e92f-4b2a-9ae6-cae1ae4487a9\">\n",
              "    <div class=\"colab-df-container\">\n",
              "      <div>\n",
              "<style scoped>\n",
              "    .dataframe tbody tr th:only-of-type {\n",
              "        vertical-align: middle;\n",
              "    }\n",
              "\n",
              "    .dataframe tbody tr th {\n",
              "        vertical-align: top;\n",
              "    }\n",
              "\n",
              "    .dataframe thead th {\n",
              "        text-align: right;\n",
              "    }\n",
              "</style>\n",
              "<table border=\"1\" class=\"dataframe\">\n",
              "  <thead>\n",
              "    <tr style=\"text-align: right;\">\n",
              "      <th></th>\n",
              "      <th>carat</th>\n",
              "      <th>cut</th>\n",
              "      <th>color</th>\n",
              "      <th>clarity</th>\n",
              "      <th>depth</th>\n",
              "      <th>table</th>\n",
              "      <th>price</th>\n",
              "      <th>x</th>\n",
              "      <th>y</th>\n",
              "      <th>z</th>\n",
              "    </tr>\n",
              "  </thead>\n",
              "  <tbody>\n",
              "    <tr>\n",
              "      <th>0</th>\n",
              "      <td>0.23</td>\n",
              "      <td>Ideal</td>\n",
              "      <td>E</td>\n",
              "      <td>SI2</td>\n",
              "      <td>61.5</td>\n",
              "      <td>55.0</td>\n",
              "      <td>326</td>\n",
              "      <td>3.95</td>\n",
              "      <td>3.98</td>\n",
              "      <td>2.43</td>\n",
              "    </tr>\n",
              "    <tr>\n",
              "      <th>1</th>\n",
              "      <td>0.21</td>\n",
              "      <td>Premium</td>\n",
              "      <td>E</td>\n",
              "      <td>SI1</td>\n",
              "      <td>59.8</td>\n",
              "      <td>61.0</td>\n",
              "      <td>326</td>\n",
              "      <td>3.89</td>\n",
              "      <td>3.84</td>\n",
              "      <td>2.31</td>\n",
              "    </tr>\n",
              "    <tr>\n",
              "      <th>2</th>\n",
              "      <td>0.23</td>\n",
              "      <td>Good</td>\n",
              "      <td>E</td>\n",
              "      <td>VS1</td>\n",
              "      <td>56.9</td>\n",
              "      <td>65.0</td>\n",
              "      <td>327</td>\n",
              "      <td>4.05</td>\n",
              "      <td>4.07</td>\n",
              "      <td>2.31</td>\n",
              "    </tr>\n",
              "    <tr>\n",
              "      <th>3</th>\n",
              "      <td>0.29</td>\n",
              "      <td>Premium</td>\n",
              "      <td>I</td>\n",
              "      <td>VS2</td>\n",
              "      <td>62.4</td>\n",
              "      <td>58.0</td>\n",
              "      <td>334</td>\n",
              "      <td>4.20</td>\n",
              "      <td>4.23</td>\n",
              "      <td>2.63</td>\n",
              "    </tr>\n",
              "    <tr>\n",
              "      <th>4</th>\n",
              "      <td>0.31</td>\n",
              "      <td>Good</td>\n",
              "      <td>J</td>\n",
              "      <td>SI2</td>\n",
              "      <td>63.3</td>\n",
              "      <td>58.0</td>\n",
              "      <td>335</td>\n",
              "      <td>4.34</td>\n",
              "      <td>4.35</td>\n",
              "      <td>2.75</td>\n",
              "    </tr>\n",
              "    <tr>\n",
              "      <th>5</th>\n",
              "      <td>0.24</td>\n",
              "      <td>Very Good</td>\n",
              "      <td>J</td>\n",
              "      <td>VVS2</td>\n",
              "      <td>62.8</td>\n",
              "      <td>57.0</td>\n",
              "      <td>336</td>\n",
              "      <td>3.94</td>\n",
              "      <td>3.96</td>\n",
              "      <td>2.48</td>\n",
              "    </tr>\n",
              "    <tr>\n",
              "      <th>6</th>\n",
              "      <td>0.24</td>\n",
              "      <td>Very Good</td>\n",
              "      <td>I</td>\n",
              "      <td>VVS1</td>\n",
              "      <td>62.3</td>\n",
              "      <td>57.0</td>\n",
              "      <td>336</td>\n",
              "      <td>3.95</td>\n",
              "      <td>3.98</td>\n",
              "      <td>2.47</td>\n",
              "    </tr>\n",
              "    <tr>\n",
              "      <th>7</th>\n",
              "      <td>0.26</td>\n",
              "      <td>Very Good</td>\n",
              "      <td>H</td>\n",
              "      <td>SI1</td>\n",
              "      <td>61.9</td>\n",
              "      <td>55.0</td>\n",
              "      <td>337</td>\n",
              "      <td>4.07</td>\n",
              "      <td>4.11</td>\n",
              "      <td>2.53</td>\n",
              "    </tr>\n",
              "    <tr>\n",
              "      <th>8</th>\n",
              "      <td>0.22</td>\n",
              "      <td>Fair</td>\n",
              "      <td>E</td>\n",
              "      <td>VS2</td>\n",
              "      <td>65.1</td>\n",
              "      <td>61.0</td>\n",
              "      <td>337</td>\n",
              "      <td>3.87</td>\n",
              "      <td>3.78</td>\n",
              "      <td>2.49</td>\n",
              "    </tr>\n",
              "    <tr>\n",
              "      <th>9</th>\n",
              "      <td>0.23</td>\n",
              "      <td>Very Good</td>\n",
              "      <td>H</td>\n",
              "      <td>VS1</td>\n",
              "      <td>59.4</td>\n",
              "      <td>61.0</td>\n",
              "      <td>338</td>\n",
              "      <td>4.00</td>\n",
              "      <td>4.05</td>\n",
              "      <td>2.39</td>\n",
              "    </tr>\n",
              "  </tbody>\n",
              "</table>\n",
              "</div>\n",
              "      <button class=\"colab-df-convert\" onclick=\"convertToInteractive('df-f9fd4df0-e92f-4b2a-9ae6-cae1ae4487a9')\"\n",
              "              title=\"Convert this dataframe to an interactive table.\"\n",
              "              style=\"display:none;\">\n",
              "        \n",
              "  <svg xmlns=\"http://www.w3.org/2000/svg\" height=\"24px\"viewBox=\"0 0 24 24\"\n",
              "       width=\"24px\">\n",
              "    <path d=\"M0 0h24v24H0V0z\" fill=\"none\"/>\n",
              "    <path d=\"M18.56 5.44l.94 2.06.94-2.06 2.06-.94-2.06-.94-.94-2.06-.94 2.06-2.06.94zm-11 1L8.5 8.5l.94-2.06 2.06-.94-2.06-.94L8.5 2.5l-.94 2.06-2.06.94zm10 10l.94 2.06.94-2.06 2.06-.94-2.06-.94-.94-2.06-.94 2.06-2.06.94z\"/><path d=\"M17.41 7.96l-1.37-1.37c-.4-.4-.92-.59-1.43-.59-.52 0-1.04.2-1.43.59L10.3 9.45l-7.72 7.72c-.78.78-.78 2.05 0 2.83L4 21.41c.39.39.9.59 1.41.59.51 0 1.02-.2 1.41-.59l7.78-7.78 2.81-2.81c.8-.78.8-2.07 0-2.86zM5.41 20L4 18.59l7.72-7.72 1.47 1.35L5.41 20z\"/>\n",
              "  </svg>\n",
              "      </button>\n",
              "      \n",
              "  <style>\n",
              "    .colab-df-container {\n",
              "      display:flex;\n",
              "      flex-wrap:wrap;\n",
              "      gap: 12px;\n",
              "    }\n",
              "\n",
              "    .colab-df-convert {\n",
              "      background-color: #E8F0FE;\n",
              "      border: none;\n",
              "      border-radius: 50%;\n",
              "      cursor: pointer;\n",
              "      display: none;\n",
              "      fill: #1967D2;\n",
              "      height: 32px;\n",
              "      padding: 0 0 0 0;\n",
              "      width: 32px;\n",
              "    }\n",
              "\n",
              "    .colab-df-convert:hover {\n",
              "      background-color: #E2EBFA;\n",
              "      box-shadow: 0px 1px 2px rgba(60, 64, 67, 0.3), 0px 1px 3px 1px rgba(60, 64, 67, 0.15);\n",
              "      fill: #174EA6;\n",
              "    }\n",
              "\n",
              "    [theme=dark] .colab-df-convert {\n",
              "      background-color: #3B4455;\n",
              "      fill: #D2E3FC;\n",
              "    }\n",
              "\n",
              "    [theme=dark] .colab-df-convert:hover {\n",
              "      background-color: #434B5C;\n",
              "      box-shadow: 0px 1px 3px 1px rgba(0, 0, 0, 0.15);\n",
              "      filter: drop-shadow(0px 1px 2px rgba(0, 0, 0, 0.3));\n",
              "      fill: #FFFFFF;\n",
              "    }\n",
              "  </style>\n",
              "\n",
              "      <script>\n",
              "        const buttonEl =\n",
              "          document.querySelector('#df-f9fd4df0-e92f-4b2a-9ae6-cae1ae4487a9 button.colab-df-convert');\n",
              "        buttonEl.style.display =\n",
              "          google.colab.kernel.accessAllowed ? 'block' : 'none';\n",
              "\n",
              "        async function convertToInteractive(key) {\n",
              "          const element = document.querySelector('#df-f9fd4df0-e92f-4b2a-9ae6-cae1ae4487a9');\n",
              "          const dataTable =\n",
              "            await google.colab.kernel.invokeFunction('convertToInteractive',\n",
              "                                                     [key], {});\n",
              "          if (!dataTable) return;\n",
              "\n",
              "          const docLinkHtml = 'Like what you see? Visit the ' +\n",
              "            '<a target=\"_blank\" href=https://colab.research.google.com/notebooks/data_table.ipynb>data table notebook</a>'\n",
              "            + ' to learn more about interactive tables.';\n",
              "          element.innerHTML = '';\n",
              "          dataTable['output_type'] = 'display_data';\n",
              "          await google.colab.output.renderOutput(dataTable, element);\n",
              "          const docLink = document.createElement('div');\n",
              "          docLink.innerHTML = docLinkHtml;\n",
              "          element.appendChild(docLink);\n",
              "        }\n",
              "      </script>\n",
              "    </div>\n",
              "  </div>\n",
              "  "
            ],
            "text/plain": [
              "   carat        cut color clarity  depth  table  price     x     y     z\n",
              "0   0.23      Ideal     E     SI2   61.5   55.0    326  3.95  3.98  2.43\n",
              "1   0.21    Premium     E     SI1   59.8   61.0    326  3.89  3.84  2.31\n",
              "2   0.23       Good     E     VS1   56.9   65.0    327  4.05  4.07  2.31\n",
              "3   0.29    Premium     I     VS2   62.4   58.0    334  4.20  4.23  2.63\n",
              "4   0.31       Good     J     SI2   63.3   58.0    335  4.34  4.35  2.75\n",
              "5   0.24  Very Good     J    VVS2   62.8   57.0    336  3.94  3.96  2.48\n",
              "6   0.24  Very Good     I    VVS1   62.3   57.0    336  3.95  3.98  2.47\n",
              "7   0.26  Very Good     H     SI1   61.9   55.0    337  4.07  4.11  2.53\n",
              "8   0.22       Fair     E     VS2   65.1   61.0    337  3.87  3.78  2.49\n",
              "9   0.23  Very Good     H     VS1   59.4   61.0    338  4.00  4.05  2.39"
            ]
          },
          "metadata": {},
          "execution_count": 21
        }
      ]
    },
    {
      "cell_type": "code",
      "source": [
        "cat_columns = ['cut', 'color', 'clarity']\n",
        "cont_columns = ['carat', 'depth', 'table', 'x', 'y', 'z']\n",
        "target_attribute = 'price'"
      ],
      "metadata": {
        "id": "zu6_gfGvJBz5"
      },
      "execution_count": null,
      "outputs": []
    },
    {
      "cell_type": "code",
      "source": [
        "df.isna().sum()"
      ],
      "metadata": {
        "colab": {
          "base_uri": "https://localhost:8080/"
        },
        "id": "n603mAhzITeF",
        "outputId": "54079a84-5d98-4f15-f40b-0e0a4056a796"
      },
      "execution_count": null,
      "outputs": [
        {
          "output_type": "execute_result",
          "data": {
            "text/plain": [
              "carat      0\n",
              "cut        0\n",
              "color      0\n",
              "clarity    0\n",
              "depth      0\n",
              "table      0\n",
              "price      0\n",
              "x          0\n",
              "y          0\n",
              "z          0\n",
              "dtype: int64"
            ]
          },
          "metadata": {},
          "execution_count": 25
        }
      ]
    },
    {
      "cell_type": "code",
      "source": [
        "for col in cat_columns:\n",
        "  print(col, ':', df[col].unique())"
      ],
      "metadata": {
        "colab": {
          "base_uri": "https://localhost:8080/"
        },
        "id": "MQTZ1Us9Ijlj",
        "outputId": "e3fc767b-4b5b-46b7-a2d8-f2f9f6be0ccc"
      },
      "execution_count": null,
      "outputs": [
        {
          "output_type": "stream",
          "name": "stdout",
          "text": [
            "cut : ['Ideal' 'Premium' 'Good' 'Very Good' 'Fair']\n",
            "color : ['E' 'I' 'J' 'H' 'F' 'G' 'D']\n",
            "clarity : ['SI2' 'SI1' 'VS1' 'VS2' 'VVS2' 'VVS1' 'I1' 'IF']\n"
          ]
        }
      ]
    },
    {
      "cell_type": "code",
      "source": [
        "x = df[cont_columns + cat_columns]\n",
        "y = df[target_attribute]\n",
        "train_x, test_x, train_y, test_y = train_test_split(x, y, test_size=0.3)"
      ],
      "metadata": {
        "id": "mU98RcpsIx17"
      },
      "execution_count": null,
      "outputs": []
    },
    {
      "cell_type": "code",
      "source": [
        "scaler = StandardScaler()\n",
        "oh_encoder = OneHotEncoder()\n",
        "\n",
        "def preprocess_data(data, train=False):\n",
        "  if train:\n",
        "    scaler.fit(data[cont_columns])\n",
        "    \n",
        "  data[cont_columns] = scaler.transform(data[cont_columns])\n",
        "\n",
        "  if train:\n",
        "    oh_encoder.fit(data[cat_columns])\n",
        "\n",
        "  cx = oh_encoder.transform(data[cat_columns]).toarray()\n",
        "  new_data = data.drop(columns=cat_columns)\n",
        "  new_data = np.hstack((new_data.to_numpy(), cx))\n",
        "  return new_data\n"
      ],
      "metadata": {
        "id": "cIAXuTmLKKUC"
      },
      "execution_count": null,
      "outputs": []
    },
    {
      "cell_type": "code",
      "source": [
        "train_x = preprocess_data(train_x, train=True)\n",
        "test_x = preprocess_data(test_x)"
      ],
      "metadata": {
        "id": "adTXfBF6Qaxz"
      },
      "execution_count": null,
      "outputs": []
    },
    {
      "cell_type": "code",
      "source": [
        "print('Train x Shape:', train_x.shape)\n",
        "print('Train y Shape:', train_y.shape)\n",
        "print('Test x Shape:', test_x.shape)\n",
        "print('Test y Shape:', test_y.shape)"
      ],
      "metadata": {
        "colab": {
          "base_uri": "https://localhost:8080/"
        },
        "id": "GHkSiYBqbrLW",
        "outputId": "ff313ca2-f0e3-494a-d882-a79d529b5e8f"
      },
      "execution_count": null,
      "outputs": [
        {
          "output_type": "stream",
          "name": "stdout",
          "text": [
            "Train x Shape: (37758, 26)\n",
            "Train y Shape: (37758,)\n",
            "Test x Shape: (16182, 26)\n",
            "Test y Shape: (16182,)\n"
          ]
        }
      ]
    },
    {
      "cell_type": "code",
      "source": [
        "model = tf.keras.Sequential([\n",
        "    layers.Input(train_x.shape[1]),\n",
        "    layers.Dense(units=64, activation='relu'),\n",
        "    layers.Dense(units=128, activation='relu'),\n",
        "    layers.Dense(units=64, activation='relu'),\n",
        "    layers.Dense(units=1, activation='relu'),\n",
        "])\n",
        "\n",
        "model.summary()"
      ],
      "metadata": {
        "colab": {
          "base_uri": "https://localhost:8080/"
        },
        "id": "26On0tB7W3n3",
        "outputId": "f98c2f73-cc1b-42de-99dc-db88396ef420"
      },
      "execution_count": null,
      "outputs": [
        {
          "output_type": "stream",
          "name": "stdout",
          "text": [
            "Model: \"sequential_2\"\n",
            "_________________________________________________________________\n",
            " Layer (type)                Output Shape              Param #   \n",
            "=================================================================\n",
            " dense_8 (Dense)             (None, 64)                1728      \n",
            "                                                                 \n",
            " dense_9 (Dense)             (None, 128)               8320      \n",
            "                                                                 \n",
            " dense_10 (Dense)            (None, 64)                8256      \n",
            "                                                                 \n",
            " dense_11 (Dense)            (None, 1)                 65        \n",
            "                                                                 \n",
            "=================================================================\n",
            "Total params: 18,369\n",
            "Trainable params: 18,369\n",
            "Non-trainable params: 0\n",
            "_________________________________________________________________\n"
          ]
        }
      ]
    },
    {
      "cell_type": "code",
      "source": [
        "model.compile(optimizer='adam',loss='mse',metrics=['MAE', 'MSE'])"
      ],
      "metadata": {
        "id": "ymEeeODqXuI8"
      },
      "execution_count": null,
      "outputs": []
    },
    {
      "cell_type": "code",
      "source": [
        "callbacks = [tf.keras.callbacks.ModelCheckpoint('/content/transfer_learning_weights.h5', monitor='val_acc', save_best_only=True),\n",
        "             tf.keras.callbacks.EarlyStopping(monitor='val_loss', patience=4, verbose=1, mode = 'min'), \n",
        "             tf.keras.callbacks.ReduceLROnPlateau(monitor=\"val_loss\", mode = \"min\", patience=2)]\n",
        "    \n",
        "history = model.fit(train_x, train_y, epochs=20, batch_size=16, verbose=1, validation_split = 0.2, callbacks = callbacks)  \n",
        "\n"
      ],
      "metadata": {
        "colab": {
          "base_uri": "https://localhost:8080/"
        },
        "id": "w8E2dOBWYjh6",
        "outputId": "6157bf8d-609d-4f11-f457-06d113497fac"
      },
      "execution_count": null,
      "outputs": [
        {
          "output_type": "stream",
          "name": "stdout",
          "text": [
            "Epoch 1/20\n",
            "1883/1888 [============================>.] - ETA: 0s - loss: 391420.5625 - MAE: 325.8148 - MSE: 391420.5625WARNING:tensorflow:Can save best model only with val_acc available, skipping.\n",
            "1888/1888 [==============================] - 4s 2ms/step - loss: 390933.8438 - MAE: 325.6210 - MSE: 390933.8438 - val_loss: 424382.7812 - val_MAE: 336.7010 - val_MSE: 424382.7812 - lr: 0.0010\n",
            "Epoch 2/20\n",
            "1883/1888 [============================>.] - ETA: 0s - loss: 386268.0625 - MAE: 324.9095 - MSE: 386268.0625WARNING:tensorflow:Can save best model only with val_acc available, skipping.\n",
            "1888/1888 [==============================] - 3s 2ms/step - loss: 385876.7812 - MAE: 324.7737 - MSE: 385876.7812 - val_loss: 401987.1875 - val_MAE: 331.7621 - val_MSE: 401987.1875 - lr: 0.0010\n",
            "Epoch 3/20\n",
            "1884/1888 [============================>.] - ETA: 0s - loss: 376048.4688 - MAE: 321.2970 - MSE: 376048.4688WARNING:tensorflow:Can save best model only with val_acc available, skipping.\n",
            "1888/1888 [==============================] - 3s 2ms/step - loss: 375706.8750 - MAE: 321.2244 - MSE: 375706.8750 - val_loss: 404248.0000 - val_MAE: 339.9673 - val_MSE: 404248.0000 - lr: 0.0010\n",
            "Epoch 4/20\n",
            "1865/1888 [============================>.] - ETA: 0s - loss: 377251.3125 - MAE: 322.8986 - MSE: 377251.3125WARNING:tensorflow:Can save best model only with val_acc available, skipping.\n",
            "1888/1888 [==============================] - 3s 2ms/step - loss: 376854.7812 - MAE: 322.6789 - MSE: 376854.7812 - val_loss: 389903.0312 - val_MAE: 330.2767 - val_MSE: 389903.0312 - lr: 0.0010\n",
            "Epoch 5/20\n",
            "1880/1888 [============================>.] - ETA: 0s - loss: 373593.1562 - MAE: 319.9847 - MSE: 373593.1562WARNING:tensorflow:Can save best model only with val_acc available, skipping.\n",
            "1888/1888 [==============================] - 3s 2ms/step - loss: 373494.1562 - MAE: 320.0449 - MSE: 373494.1562 - val_loss: 433799.6562 - val_MAE: 335.9273 - val_MSE: 433799.6562 - lr: 0.0010\n",
            "Epoch 6/20\n",
            "1873/1888 [============================>.] - ETA: 0s - loss: 368190.3750 - MAE: 318.8464 - MSE: 368190.3750WARNING:tensorflow:Can save best model only with val_acc available, skipping.\n",
            "1888/1888 [==============================] - 4s 2ms/step - loss: 368716.7188 - MAE: 319.1516 - MSE: 368716.7188 - val_loss: 393109.1875 - val_MAE: 329.2710 - val_MSE: 393109.1875 - lr: 0.0010\n",
            "Epoch 7/20\n",
            "1888/1888 [==============================] - ETA: 0s - loss: 346816.0000 - MAE: 305.8157 - MSE: 346816.0000WARNING:tensorflow:Can save best model only with val_acc available, skipping.\n",
            "1888/1888 [==============================] - 4s 2ms/step - loss: 346816.0000 - MAE: 305.8157 - MSE: 346816.0000 - val_loss: 372860.1250 - val_MAE: 323.6949 - val_MSE: 372860.1250 - lr: 1.0000e-04\n",
            "Epoch 8/20\n",
            "1882/1888 [============================>.] - ETA: 0s - loss: 345005.4062 - MAE: 304.8750 - MSE: 345005.4062WARNING:tensorflow:Can save best model only with val_acc available, skipping.\n",
            "1888/1888 [==============================] - 3s 2ms/step - loss: 344906.6562 - MAE: 304.8318 - MSE: 344906.6562 - val_loss: 373346.3125 - val_MAE: 321.4224 - val_MSE: 373346.3125 - lr: 1.0000e-04\n",
            "Epoch 9/20\n",
            "1854/1888 [============================>.] - ETA: 0s - loss: 343713.1250 - MAE: 303.9788 - MSE: 343713.1250WARNING:tensorflow:Can save best model only with val_acc available, skipping.\n",
            "1888/1888 [==============================] - 3s 2ms/step - loss: 344280.9375 - MAE: 304.1311 - MSE: 344280.9375 - val_loss: 372530.6562 - val_MAE: 321.6331 - val_MSE: 372530.6562 - lr: 1.0000e-04\n",
            "Epoch 10/20\n",
            "1888/1888 [==============================] - ETA: 0s - loss: 342586.7188 - MAE: 304.1572 - MSE: 342586.7188WARNING:tensorflow:Can save best model only with val_acc available, skipping.\n",
            "1888/1888 [==============================] - 3s 2ms/step - loss: 342586.7188 - MAE: 304.1572 - MSE: 342586.7188 - val_loss: 372142.9375 - val_MAE: 320.8056 - val_MSE: 372142.9375 - lr: 1.0000e-04\n",
            "Epoch 11/20\n",
            "1864/1888 [============================>.] - ETA: 0s - loss: 343030.6250 - MAE: 303.9601 - MSE: 343030.6250WARNING:tensorflow:Can save best model only with val_acc available, skipping.\n",
            "1888/1888 [==============================] - 4s 2ms/step - loss: 343235.1875 - MAE: 303.9254 - MSE: 343235.1875 - val_loss: 372165.9688 - val_MAE: 323.2117 - val_MSE: 372165.9688 - lr: 1.0000e-04\n",
            "Epoch 12/20\n",
            "1855/1888 [============================>.] - ETA: 0s - loss: 338888.3438 - MAE: 303.0650 - MSE: 338888.3438WARNING:tensorflow:Can save best model only with val_acc available, skipping.\n",
            "1888/1888 [==============================] - 3s 2ms/step - loss: 342512.3750 - MAE: 303.5749 - MSE: 342512.3750 - val_loss: 371406.2188 - val_MAE: 321.7062 - val_MSE: 371406.2188 - lr: 1.0000e-04\n",
            "Epoch 13/20\n",
            "1855/1888 [============================>.] - ETA: 0s - loss: 340519.3125 - MAE: 303.0103 - MSE: 340519.3125WARNING:tensorflow:Can save best model only with val_acc available, skipping.\n",
            "1888/1888 [==============================] - 4s 2ms/step - loss: 341241.7188 - MAE: 303.2037 - MSE: 341241.7188 - val_loss: 379663.1250 - val_MAE: 330.7571 - val_MSE: 379663.1250 - lr: 1.0000e-04\n",
            "Epoch 14/20\n",
            "1886/1888 [============================>.] - ETA: 0s - loss: 338303.5000 - MAE: 302.9901 - MSE: 338303.5000WARNING:tensorflow:Can save best model only with val_acc available, skipping.\n",
            "1888/1888 [==============================] - 4s 2ms/step - loss: 341639.2500 - MAE: 303.3214 - MSE: 341639.2500 - val_loss: 371992.0000 - val_MAE: 320.0126 - val_MSE: 371992.0000 - lr: 1.0000e-04\n",
            "Epoch 15/20\n",
            "1855/1888 [============================>.] - ETA: 0s - loss: 339167.3750 - MAE: 302.0550 - MSE: 339167.3750WARNING:tensorflow:Can save best model only with val_acc available, skipping.\n",
            "1888/1888 [==============================] - 4s 2ms/step - loss: 338530.5938 - MAE: 301.7903 - MSE: 338530.5938 - val_loss: 372681.2500 - val_MAE: 320.1360 - val_MSE: 372681.2500 - lr: 1.0000e-05\n",
            "Epoch 16/20\n",
            "1872/1888 [============================>.] - ETA: 0s - loss: 337499.7188 - MAE: 301.7717 - MSE: 337499.7188WARNING:tensorflow:Can save best model only with val_acc available, skipping.\n",
            "1888/1888 [==============================] - 3s 2ms/step - loss: 338560.2500 - MAE: 301.8730 - MSE: 338560.2500 - val_loss: 372119.5312 - val_MAE: 320.1390 - val_MSE: 372119.5312 - lr: 1.0000e-05\n",
            "Epoch 00016: early stopping\n"
          ]
        }
      ]
    },
    {
      "cell_type": "code",
      "source": [
        "history.history.keys()"
      ],
      "metadata": {
        "colab": {
          "base_uri": "https://localhost:8080/"
        },
        "id": "NIMhhmBDIZtV",
        "outputId": "a006debb-12c7-4174-b410-f017d1d40649"
      },
      "execution_count": null,
      "outputs": [
        {
          "output_type": "execute_result",
          "data": {
            "text/plain": [
              "dict_keys(['loss', 'MAE', 'MSE', 'val_loss', 'val_MAE', 'val_MSE', 'lr'])"
            ]
          },
          "metadata": {},
          "execution_count": 48
        }
      ]
    },
    {
      "cell_type": "code",
      "source": [
        "plt.plot(history.history['MAE'])\n",
        "plt.plot(history.history['val_MAE'])\n",
        "plt.title('Model MAE')\n",
        "plt.ylabel('MAE')\n",
        "plt.xlabel('Epoch')\n",
        "plt.legend(['train', 'validation'], loc='upper right')\n",
        "plt.show()"
      ],
      "metadata": {
        "colab": {
          "base_uri": "https://localhost:8080/",
          "height": 295
        },
        "id": "Gr67TuB5YvFB",
        "outputId": "58c8f06c-0356-4edb-f204-d2043d67f2c7"
      },
      "execution_count": null,
      "outputs": [
        {
          "output_type": "display_data",
          "data": {
            "image/png": "[encoded data removed]",
            "text/plain": [
              "<Figure size 432x288 with 1 Axes>"
            ]
          },
          "metadata": {
            "needs_background": "light"
          }
        }
      ]
    },
    {
      "cell_type": "code",
      "source": [
        "plt.plot(history.history['MSE'])\n",
        "plt.plot(history.history['val_MSE'])\n",
        "plt.title('Model MSE')\n",
        "plt.ylabel('MSE')\n",
        "plt.xlabel('Epoch')\n",
        "plt.legend(['train', 'validation'], loc='upper right')\n",
        "plt.show()"
      ],
      "metadata": {
        "colab": {
          "base_uri": "https://localhost:8080/",
          "height": 295
        },
        "id": "4WBgudv0T1mm",
        "outputId": "b3772c58-ecf7-4f97-b5e0-ee85be760a0b"
      },
      "execution_count": null,
      "outputs": [
        {
          "output_type": "display_data",
          "data": {
            "image/png": "[encoded data removed]",
            "text/plain": [
              "<Figure size 432x288 with 1 Axes>"
            ]
          },
          "metadata": {
            "needs_background": "light"
          }
        }
      ]
    },
    {
      "cell_type": "code",
      "source": [
        "model.evaluate(test_x, test_y)"
      ],
      "metadata": {
        "colab": {
          "base_uri": "https://localhost:8080/"
        },
        "id": "tk8ccFrEO1y-",
        "outputId": "26f53e6a-0e79-475f-cc86-54c4e2eefb30"
      },
      "execution_count": null,
      "outputs": [
        {
          "output_type": "stream",
          "name": "stdout",
          "text": [
            "506/506 [==============================] - 1s 2ms/step - loss: 708416.6875 - MAE: 318.6695 - MSE: 708416.6875\n"
          ]
        },
        {
          "output_type": "execute_result",
          "data": {
            "text/plain": [
              "[708416.6875, 318.66949462890625, 708416.6875]"
            ]
          },
          "metadata": {},
          "execution_count": 51
        }
      ]
    }
  ]
}